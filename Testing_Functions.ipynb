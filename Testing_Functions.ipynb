{
  "nbformat": 4,
  "nbformat_minor": 0,
  "metadata": {
    "colab": {
      "name": "Testing Functions.ipynb",
      "provenance": []
    },
    "kernelspec": {
      "name": "python3",
      "display_name": "Python 3"
    }
  },
  "cells": [
    {
      "cell_type": "code",
      "metadata": {
        "id": "rQmiF-_95eKC",
        "outputId": "7d396832-a6aa-4928-d24f-4c36a778b12f",
        "colab": {
          "base_uri": "https://localhost:8080/",
          "height": 35
        }
      },
      "source": [
        "def minimum_index(seq):\n",
        "    if len(seq) == 0:\n",
        "        raise ValueError(\"Cannot get the minimum value index from an empty sequence\")\n",
        "    min_idx = 0\n",
        "    for i in range(1, len(seq)):\n",
        "        if seq[i] < seq[min_idx]:\n",
        "            min_idx = i\n",
        "    return min_idx\n",
        "class TestDataEmptyArray(object):\n",
        "    \n",
        "    @staticmethod\n",
        "    def get_array():\n",
        "        r=[]\n",
        "        return r\n",
        "        # complete this function\n",
        "\n",
        "class TestDataUniqueValues(object):\n",
        "\n",
        "    @staticmethod\n",
        "    def get_array():\n",
        "        K=[1,2,3,4]\n",
        "        return K\n",
        "        # complete this function\n",
        "\n",
        "    @staticmethod\n",
        "    def get_expected_result():\n",
        "        return 0\n",
        "\n",
        "class TestDataExactlyTwoDifferentMinimums(object):\n",
        "\n",
        "    @staticmethod\n",
        "    def get_array():\n",
        "        l=[1,2,3,1]\n",
        "        return l\n",
        "\n",
        "    @staticmethod\n",
        "    def get_expected_result():\n",
        "        return 0\n",
        "\n",
        "\n",
        "def TestWithEmptyArray():\n",
        "    try:\n",
        "        seq = TestDataEmptyArray.get_array()\n",
        "        result = minimum_index(seq)\n",
        "    except ValueError as e:\n",
        "        pass\n",
        "    else:\n",
        "        assert False\n",
        "\n",
        "\n",
        "def TestWithUniqueValues():\n",
        "    seq = TestDataUniqueValues.get_array()\n",
        "    assert len(seq) >= 2\n",
        "\n",
        "    assert len(list(set(seq))) == len(seq)\n",
        "\n",
        "    expected_result = TestDataUniqueValues.get_expected_result()\n",
        "    result = minimum_index(seq)\n",
        "    assert result == expected_result\n",
        "\n",
        "\n",
        "def TestiWithExactyTwoDifferentMinimums():\n",
        "    seq = TestDataExactlyTwoDifferentMinimums.get_array()\n",
        "    assert len(seq) >= 2\n",
        "    tmp = sorted(seq)\n",
        "    assert tmp[0] == tmp[1] and (len(tmp) == 2 or tmp[1] < tmp[2])\n",
        "\n",
        "    expected_result = TestDataExactlyTwoDifferentMinimums.get_expected_result()\n",
        "    result = minimum_index(seq)\n",
        "    assert result == expected_result\n",
        "\n",
        "TestWithEmptyArray()\n",
        "TestWithUniqueValues()\n",
        "TestiWithExactyTwoDifferentMinimums()\n",
        "print(\"OK\")\n",
        "\n"
      ],
      "execution_count": 1,
      "outputs": [
        {
          "output_type": "stream",
          "text": [
            "OK\n"
          ],
          "name": "stdout"
        }
      ]
    }
  ]
}